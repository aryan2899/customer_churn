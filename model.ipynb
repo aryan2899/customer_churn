{
 "cells": [
  {
   "cell_type": "code",
   "execution_count": 18,
   "id": "9cca49ca-6108-4684-91de-0bf874583676",
   "metadata": {},
   "outputs": [],
   "source": [
    "import pandas as pd\n",
    "import numpy as np\n",
    "import matplotlib.pyplot as plt\n",
    "import seaborn as sns\n",
    "from sklearn.feature_selection import SelectKBest\n",
    "from sklearn.feature_selection import chi2\n",
    "from sklearn.model_selection import train_test_split\n",
    "from sklearn.linear_model import LogisticRegression\n",
    "from sklearn.tree import DecisionTreeClassifier\n",
    "from sklearn.ensemble import RandomForestClassifier\n",
    "from sklearn.naive_bayes import GaussianNB\n",
    "from sklearn.metrics import f1_score"
   ]
  },
  {
   "cell_type": "code",
   "execution_count": 5,
   "id": "6d8449b6-df6d-4e73-88e2-6a101066405e",
   "metadata": {},
   "outputs": [],
   "source": [
    "df = pd.read_csv('model_data.csv')\n",
    "X = df.drop(columns=['Churn'])\n",
    "y = df['Churn']"
   ]
  },
  {
   "cell_type": "code",
   "execution_count": 6,
   "id": "1417041d-0f2b-47cd-a197-f379ed2f04d9",
   "metadata": {},
   "outputs": [],
   "source": [
    "X_train, X_test, y_train, y_test = train_test_split(X,y, test_size = 0.4, random_state=100)"
   ]
  },
  {
   "cell_type": "code",
   "execution_count": 8,
   "id": "a267b3f1-a204-4d25-ba8f-15b28407958a",
   "metadata": {},
   "outputs": [
    {
     "name": "stdout",
     "output_type": "stream",
     "text": [
      "Feature 0: 44.789579\n",
      "Feature 1: 75.237768\n",
      "Feature 2: 83.768537\n",
      "Feature 3: 20.286132\n",
      "Feature 4: 8.321895\n",
      "Feature 5: 81.072509\n",
      "Feature 6: 64.351491\n",
      "Feature 7: 66.410921\n",
      "Feature 8: 251.871650\n",
      "Feature 9: 35.725345\n",
      "Feature 10: 232.649177\n",
      "Feature 11: 185.805563\n",
      "Feature 12: 106.365272\n",
      "Feature 13: 287.433480\n"
     ]
    }
   ],
   "source": [
    "f_scores = SelectKBest(score_func=chi2, k = 'all')\n",
    "f_scores.fit(X_train, y_train)\n",
    "for i in range(len(f_scores.scores_)):\n",
    "\tprint('Feature %d: %f' % (i, f_scores.scores_[i]))\n"
   ]
  },
  {
   "cell_type": "markdown",
   "id": "5de88ff3-8fe0-4e09-a90c-e19339b24b17",
   "metadata": {},
   "source": [
    "All features have a high test statistic. For a significane level of 0.05 and 13 degrees of freedom, the critical value is 22.362. Therefore the 2 features which are not statistcally significant are features 3 and 4 (OnlineBackup and DeviceProtection), so they can be dropped for the training of the model."
   ]
  },
  {
   "cell_type": "code",
   "execution_count": 9,
   "id": "8ea42ac5-ae50-47a7-b668-478593386bb8",
   "metadata": {},
   "outputs": [
    {
     "data": {
      "text/html": [
       "<div>\n",
       "<style scoped>\n",
       "    .dataframe tbody tr th:only-of-type {\n",
       "        vertical-align: middle;\n",
       "    }\n",
       "\n",
       "    .dataframe tbody tr th {\n",
       "        vertical-align: top;\n",
       "    }\n",
       "\n",
       "    .dataframe thead th {\n",
       "        text-align: right;\n",
       "    }\n",
       "</style>\n",
       "<table border=\"1\" class=\"dataframe\">\n",
       "  <thead>\n",
       "    <tr style=\"text-align: right;\">\n",
       "      <th></th>\n",
       "      <th>Partner</th>\n",
       "      <th>Dependents</th>\n",
       "      <th>OnlineSecurity</th>\n",
       "      <th>OnlineBackup</th>\n",
       "      <th>DeviceProtection</th>\n",
       "      <th>TechSupport</th>\n",
       "      <th>PaperlessBilling</th>\n",
       "      <th>PaymentMethod_Credit card (automatic)</th>\n",
       "      <th>PaymentMethod_Electronic check</th>\n",
       "      <th>PaymentMethod_Mailed check</th>\n",
       "      <th>InternetService_Fiber optic</th>\n",
       "      <th>InternetService_No</th>\n",
       "      <th>Contract_One year</th>\n",
       "      <th>Contract_Two year</th>\n",
       "    </tr>\n",
       "  </thead>\n",
       "  <tbody>\n",
       "    <tr>\n",
       "      <th>3342</th>\n",
       "      <td>0</td>\n",
       "      <td>0</td>\n",
       "      <td>0</td>\n",
       "      <td>1</td>\n",
       "      <td>1</td>\n",
       "      <td>0</td>\n",
       "      <td>1</td>\n",
       "      <td>0</td>\n",
       "      <td>1</td>\n",
       "      <td>0</td>\n",
       "      <td>1</td>\n",
       "      <td>0</td>\n",
       "      <td>1</td>\n",
       "      <td>0</td>\n",
       "    </tr>\n",
       "    <tr>\n",
       "      <th>2878</th>\n",
       "      <td>1</td>\n",
       "      <td>1</td>\n",
       "      <td>0</td>\n",
       "      <td>0</td>\n",
       "      <td>0</td>\n",
       "      <td>0</td>\n",
       "      <td>0</td>\n",
       "      <td>0</td>\n",
       "      <td>0</td>\n",
       "      <td>1</td>\n",
       "      <td>0</td>\n",
       "      <td>1</td>\n",
       "      <td>0</td>\n",
       "      <td>1</td>\n",
       "    </tr>\n",
       "    <tr>\n",
       "      <th>4186</th>\n",
       "      <td>0</td>\n",
       "      <td>0</td>\n",
       "      <td>0</td>\n",
       "      <td>0</td>\n",
       "      <td>0</td>\n",
       "      <td>0</td>\n",
       "      <td>0</td>\n",
       "      <td>1</td>\n",
       "      <td>0</td>\n",
       "      <td>0</td>\n",
       "      <td>0</td>\n",
       "      <td>1</td>\n",
       "      <td>0</td>\n",
       "      <td>0</td>\n",
       "    </tr>\n",
       "    <tr>\n",
       "      <th>3106</th>\n",
       "      <td>1</td>\n",
       "      <td>1</td>\n",
       "      <td>0</td>\n",
       "      <td>1</td>\n",
       "      <td>1</td>\n",
       "      <td>0</td>\n",
       "      <td>1</td>\n",
       "      <td>0</td>\n",
       "      <td>1</td>\n",
       "      <td>0</td>\n",
       "      <td>1</td>\n",
       "      <td>0</td>\n",
       "      <td>0</td>\n",
       "      <td>1</td>\n",
       "    </tr>\n",
       "    <tr>\n",
       "      <th>3474</th>\n",
       "      <td>1</td>\n",
       "      <td>0</td>\n",
       "      <td>0</td>\n",
       "      <td>0</td>\n",
       "      <td>0</td>\n",
       "      <td>0</td>\n",
       "      <td>0</td>\n",
       "      <td>1</td>\n",
       "      <td>0</td>\n",
       "      <td>0</td>\n",
       "      <td>0</td>\n",
       "      <td>1</td>\n",
       "      <td>0</td>\n",
       "      <td>1</td>\n",
       "    </tr>\n",
       "  </tbody>\n",
       "</table>\n",
       "</div>"
      ],
      "text/plain": [
       "      Partner  Dependents  OnlineSecurity  OnlineBackup  DeviceProtection  \\\n",
       "3342        0           0               0             1                 1   \n",
       "2878        1           1               0             0                 0   \n",
       "4186        0           0               0             0                 0   \n",
       "3106        1           1               0             1                 1   \n",
       "3474        1           0               0             0                 0   \n",
       "\n",
       "      TechSupport  PaperlessBilling  PaymentMethod_Credit card (automatic)  \\\n",
       "3342            0                 1                                      0   \n",
       "2878            0                 0                                      0   \n",
       "4186            0                 0                                      1   \n",
       "3106            0                 1                                      0   \n",
       "3474            0                 0                                      1   \n",
       "\n",
       "      PaymentMethod_Electronic check  PaymentMethod_Mailed check  \\\n",
       "3342                               1                           0   \n",
       "2878                               0                           1   \n",
       "4186                               0                           0   \n",
       "3106                               1                           0   \n",
       "3474                               0                           0   \n",
       "\n",
       "      InternetService_Fiber optic  InternetService_No  Contract_One year  \\\n",
       "3342                            1                   0                  1   \n",
       "2878                            0                   1                  0   \n",
       "4186                            0                   1                  0   \n",
       "3106                            1                   0                  0   \n",
       "3474                            0                   1                  0   \n",
       "\n",
       "      Contract_Two year  \n",
       "3342                  0  \n",
       "2878                  1  \n",
       "4186                  0  \n",
       "3106                  1  \n",
       "3474                  1  "
      ]
     },
     "execution_count": 9,
     "metadata": {},
     "output_type": "execute_result"
    }
   ],
   "source": [
    "X_train.head()"
   ]
  },
  {
   "cell_type": "code",
   "execution_count": 10,
   "id": "43f70f63-9f5e-4d2f-b0af-9716f951dd27",
   "metadata": {},
   "outputs": [],
   "source": [
    "X_train.drop(columns=['OnlineBackup', 'DeviceProtection'], inplace = True)\n",
    "X_test.drop(columns=['OnlineBackup', 'DeviceProtection'], inplace = True)"
   ]
  },
  {
   "cell_type": "markdown",
   "id": "272ab506-7976-44d9-9f0d-e8ce10f602db",
   "metadata": {},
   "source": [
    "## Model Training"
   ]
  },
  {
   "cell_type": "code",
   "execution_count": 15,
   "id": "82fead2a-e860-43d2-b276-8ba6b1b44724",
   "metadata": {},
   "outputs": [
    {
     "name": "stdout",
     "output_type": "stream",
     "text": [
      "Train F1-score 0.564251, Test F1-score 0.566738\n"
     ]
    }
   ],
   "source": [
    "#logistic regression\n",
    "lr = LogisticRegression()\n",
    "lr.fit(X_train, y_train)\n",
    "y_pred = lr.predict(X_test)\n",
    "f1_lr = f1_score(y_test, y_pred)\n",
    "y_pred_train = lr.predict(X_train)\n",
    "f1_lr_train = f1_score(y_train, y_pred_train)\n",
    "print('Train F1-score %f, Test F1-score %f' % (f1_lr_train, f1_lr))"
   ]
  },
  {
   "cell_type": "code",
   "execution_count": 16,
   "id": "02337e8d-4094-48f8-a4a6-4a85de18977a",
   "metadata": {},
   "outputs": [
    {
     "name": "stdout",
     "output_type": "stream",
     "text": [
      "Train F1-score 0.591977, Test F1-score 0.490975\n"
     ]
    }
   ],
   "source": [
    "#decision tree\n",
    "dt = DecisionTreeClassifier()\n",
    "dt.fit(X_train, y_train)\n",
    "y_pred = dt.predict(X_test)\n",
    "f1_lr = f1_score(y_test, y_pred)\n",
    "y_pred_train = dt.predict(X_train)\n",
    "f1_lr_train = f1_score(y_train, y_pred_train)\n",
    "print('Train F1-score %f, Test F1-score %f' % (f1_lr_train, f1_lr))"
   ]
  },
  {
   "cell_type": "code",
   "execution_count": 17,
   "id": "5a866c56-e7dd-41d6-880d-9ca8b11cde99",
   "metadata": {},
   "outputs": [
    {
     "name": "stdout",
     "output_type": "stream",
     "text": [
      "Train F1-score 0.614603, Test F1-score 0.519178\n"
     ]
    }
   ],
   "source": [
    "#random forest\n",
    "rf = RandomForestClassifier()\n",
    "rf.fit(X_train, y_train)\n",
    "y_pred = rf.predict(X_test)\n",
    "f1_lr = f1_score(y_test, y_pred)\n",
    "y_pred_train = rf.predict(X_train)\n",
    "f1_lr_train = f1_score(y_train, y_pred_train)\n",
    "print('Train F1-score %f, Test F1-score %f' % (f1_lr_train, f1_lr))"
   ]
  },
  {
   "cell_type": "code",
   "execution_count": 19,
   "id": "91a0e365-dfe1-471d-b16d-392b7d966a55",
   "metadata": {},
   "outputs": [
    {
     "name": "stdout",
     "output_type": "stream",
     "text": [
      "Train F1-score 0.614780, Test F1-score 0.602537\n"
     ]
    }
   ],
   "source": [
    "#naive bayes\n",
    "GNB = GaussianNB()\n",
    "GNB.fit(X_train, y_train)\n",
    "y_pred = GNB.predict(X_test)\n",
    "f1_lr = f1_score(y_test, y_pred)\n",
    "y_pred_train = GNB.predict(X_train)\n",
    "f1_lr_train = f1_score(y_train, y_pred_train)\n",
    "print('Train F1-score %f, Test F1-score %f' % (f1_lr_train, f1_lr))"
   ]
  },
  {
   "cell_type": "markdown",
   "id": "18cc6b16-d2f0-4bfb-9965-acb2ca0837f7",
   "metadata": {},
   "source": [
    "## Further Steps\n",
    "\n",
    "1. Hyper-parameter tune RF and DT to fix overfitting.\n",
    "2. SMOTE to fix the disbalance of the classes to create a better performing model\n",
    "3. Present other metrics as well such as confusion matrix, ROC AUC, Classification Report"
   ]
  },
  {
   "cell_type": "code",
   "execution_count": null,
   "id": "1443e614-3b8b-466d-8f7a-59cb4b628198",
   "metadata": {},
   "outputs": [],
   "source": []
  }
 ],
 "metadata": {
  "kernelspec": {
   "display_name": "Python 3 (ipykernel)",
   "language": "python",
   "name": "python3"
  },
  "language_info": {
   "codemirror_mode": {
    "name": "ipython",
    "version": 3
   },
   "file_extension": ".py",
   "mimetype": "text/x-python",
   "name": "python",
   "nbconvert_exporter": "python",
   "pygments_lexer": "ipython3",
   "version": "3.9.12"
  }
 },
 "nbformat": 4,
 "nbformat_minor": 5
}
